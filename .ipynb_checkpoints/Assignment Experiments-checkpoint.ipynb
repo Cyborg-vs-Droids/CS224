{
 "cells": [
  {
   "cell_type": "code",
   "execution_count": 1,
   "id": "vocational-australian",
   "metadata": {
    "ExecuteTime": {
     "end_time": "2021-05-03T05:14:05.851604Z",
     "start_time": "2021-05-03T05:14:04.910123Z"
    }
   },
   "outputs": [
    {
     "name": "stderr",
     "output_type": "stream",
     "text": [
      "C:\\Users\\70025838\\Anaconda3\\envs\\r_env\\lib\\site-packages\\numpy\\_distributor_init.py:30: UserWarning: loaded more than 1 DLL from .libs:\n",
      "C:\\Users\\70025838\\Anaconda3\\envs\\r_env\\lib\\site-packages\\numpy\\.libs\\libopenblas.PYQHXLVVQ7VESDPUVUADXEVJOBGHJPAY.gfortran-win_amd64.dll\n",
      "C:\\Users\\70025838\\Anaconda3\\envs\\r_env\\lib\\site-packages\\numpy\\.libs\\libopenblas.WCDJNK7YVMPZQ2ME2ZZHJJRJ3JIKNDB7.gfortran-win_amd64.dll\n",
      "  warnings.warn(\"loaded more than 1 DLL from .libs:\"\n"
     ]
    }
   ],
   "source": [
    "from Assignment_1 import FlappyWorld"
   ]
  },
  {
   "cell_type": "markdown",
   "id": "available-cylinder",
   "metadata": {},
   "source": [
    "## Step Reward Experiment"
   ]
  },
  {
   "cell_type": "markdown",
   "id": "looking-uncle",
   "metadata": {},
   "source": [
    "### Step Reward = -4"
   ]
  },
  {
   "cell_type": "code",
   "execution_count": 2,
   "id": "dramatic-momentum",
   "metadata": {
    "ExecuteTime": {
     "end_time": "2021-05-03T05:14:13.574274Z",
     "start_time": "2021-05-03T05:14:07.411934Z"
    }
   },
   "outputs": [
    {
     "name": "stderr",
     "output_type": "stream",
     "text": [
      "100%|█████████████████████████████████████████████████████████████████████████████| 5000/5000 [00:05<00:00, 881.53it/s]\n"
     ]
    },
    {
     "data": {
      "image/png": "[encoded data removed]",
      "text/plain": [
       "<Figure size 432x288 with 1 Axes>"
      ]
     },
     "metadata": {
      "needs_background": "light"
     },
     "output_type": "display_data"
    }
   ],
   "source": [
    "obj1 = FlappyWorld(grid_size=(7,5),negative_states=[1,7,8,12,13,14,15,16,17,21,22,28,29,35],goal_states=[32],neg_reward=-5,goal_reward=5,step_reward=-4,initial_state=3,discount_factor=0.9,epsilon=0.1)\n",
    "obj1.qlearning(5000,50)\n",
    "\n"
   ]
  },
  {
   "cell_type": "code",
   "execution_count": 3,
   "id": "rotary-aruba",
   "metadata": {
    "ExecuteTime": {
     "end_time": "2021-05-03T05:14:28.336358Z",
     "start_time": "2021-05-03T05:14:28.331373Z"
    }
   },
   "outputs": [
    {
     "name": "stdout",
     "output_type": "stream",
     "text": [
      "3  ---->  11\n",
      "11  ---->  17\n"
     ]
    }
   ],
   "source": [
    "obj1.printoptimalpath(start_state = 3)"
   ]
  },
  {
   "cell_type": "code",
   "execution_count": 4,
   "id": "freelance-globe",
   "metadata": {
    "ExecuteTime": {
     "end_time": "2021-05-03T05:14:56.874979Z",
     "start_time": "2021-05-03T05:14:45.204690Z"
    }
   },
   "outputs": [
    {
     "name": "stderr",
     "output_type": "stream",
     "text": [
      "100%|█████████████████████████████████████████████████████████████████████████████| 5000/5000 [00:11<00:00, 446.16it/s]\n"
     ]
    },
    {
     "data": {
      "image/png": "[encoded data removed]",
      "text/plain": [
       "<Figure size 432x288 with 1 Axes>"
      ]
     },
     "metadata": {
      "needs_background": "light"
     },
     "output_type": "display_data"
    }
   ],
   "source": [
    "obj2 = FlappyWorld(grid_size=(7,5),negative_states=[1,7,8,12,13,14,15,16,17,21,22,28,29,35],goal_states=[32],neg_reward=-5,goal_reward=5,step_reward=-1,initial_state=3,discount_factor=0.9,epsilon=0.1)\n",
    "obj2.qlearning(5000,50)"
   ]
  },
  {
   "cell_type": "code",
   "execution_count": 5,
   "id": "secondary-registration",
   "metadata": {
    "ExecuteTime": {
     "end_time": "2021-05-03T05:14:57.892437Z",
     "start_time": "2021-05-03T05:14:57.886475Z"
    }
   },
   "outputs": [
    {
     "name": "stdout",
     "output_type": "stream",
     "text": [
      "3  ---->  11\n",
      "11  ---->  19\n",
      "19  ---->  25\n",
      "25  ---->  31\n",
      "31  ---->  32\n"
     ]
    }
   ],
   "source": [
    "obj2.printoptimalpath(start_state = 3)"
   ]
  },
  {
   "cell_type": "code",
   "execution_count": 6,
   "id": "bridal-agreement",
   "metadata": {
    "ExecuteTime": {
     "end_time": "2021-05-03T05:15:14.338629Z",
     "start_time": "2021-05-03T05:15:02.373272Z"
    }
   },
   "outputs": [
    {
     "name": "stderr",
     "output_type": "stream",
     "text": [
      "100%|█████████████████████████████████████████████████████████████████████████████| 5000/5000 [00:11<00:00, 434.19it/s]\n"
     ]
    },
    {
     "data": {
      "image/png": "[encoded data removed]",
      "text/plain": [
       "<Figure size 432x288 with 1 Axes>"
      ]
     },
     "metadata": {
      "needs_background": "light"
     },
     "output_type": "display_data"
    }
   ],
   "source": [
    "obj3 = FlappyWorld(grid_size=(7,5),negative_states=[1,7,8,12,13,14,15,16,17,21,22,28,29,35],goal_states=[32],neg_reward=-5,goal_reward=5,step_reward=0,initial_state=3,discount_factor=0.9,epsilon=0.1)\n",
    "obj3.qlearning(5000,50)"
   ]
  },
  {
   "cell_type": "code",
   "execution_count": 37,
   "id": "higher-shoot",
   "metadata": {
    "ExecuteTime": {
     "end_time": "2021-05-03T05:03:54.485749Z",
     "start_time": "2021-05-03T05:03:54.474246Z"
    }
   },
   "outputs": [
    {
     "name": "stdout",
     "output_type": "stream",
     "text": [
      "{0: -3.3353997934541386, 1: 3.2804999998725415}\n",
      "3  ---->  11\n",
      "{0: -4.898622202047774, 1: 3.644999999999989}\n",
      "11  ---->  19\n",
      "{0: 4.04999999999999, 1: -3.6169385297804615}\n",
      "19  ---->  25\n",
      "{0: 4.499999999999993, 1: -4.0414938183681075}\n",
      "25  ---->  31\n",
      "{0: 4.999419468464824, 1: 4.9999999999999964}\n",
      "31  ---->  32\n"
     ]
    }
   ],
   "source": [
    "obj3.prev_state = 3\n",
    "for i in range(50):\n",
    "    action = obj3.select_action_q(obj3.prev_state,epsilon=0)\n",
    "    prev_state,next_state,reward,end_state = obj3.step(action)\n",
    "    print(obj3.q_value[prev_state])\n",
    "    print(prev_state,' ----> ',next_state)\n",
    "    \n",
    "    if end_state:\n",
    "        break"
   ]
  },
  {
   "cell_type": "code",
   "execution_count": 42,
   "id": "radio-speed",
   "metadata": {
    "ExecuteTime": {
     "end_time": "2021-05-03T05:07:48.736921Z",
     "start_time": "2021-05-03T05:06:53.720971Z"
    }
   },
   "outputs": [
    {
     "name": "stderr",
     "output_type": "stream",
     "text": [
      "100%|███████████████████████████████████████████████████████████████████████████| 20000/20000 [00:53<00:00, 373.96it/s]\n"
     ]
    },
    {
     "data": {
      "image/png": "[encoded data removed]",
      "text/plain": [
       "<Figure size 432x288 with 1 Axes>"
      ]
     },
     "metadata": {
      "needs_background": "light"
     },
     "output_type": "display_data"
    }
   ],
   "source": [
    "obj4 = FlappyWorld(grid_size=(7,5),negative_states=[1,7,8,12,13,14,15,16,17,21,22,28,29,35],goal_states=[32],neg_reward=-5,goal_reward=5,step_reward=1,initial_state=3,discount_factor=0.9,epsilon=0.1)\n",
    "obj4.qlearning(20000,200)"
   ]
  },
  {
   "cell_type": "code",
   "execution_count": 44,
   "id": "funny-lunch",
   "metadata": {
    "ExecuteTime": {
     "end_time": "2021-05-03T05:08:48.507113Z",
     "start_time": "2021-05-03T05:08:48.497050Z"
    }
   },
   "outputs": [
    {
     "name": "stdout",
     "output_type": "stream",
     "text": [
      "{0: -4.993449897456812, 1: 7.047549999999983}\n",
      "2  ---->  10\n",
      "{0: -4.9999987120726574, 1: 6.719499999999986}\n",
      "10  ---->  18\n",
      "{0: 6.354999999999988, 1: 5.4999999925072}\n",
      "18  ---->  24\n",
      "{0: 5.94999999999999, 1: 4.9999999999999964}\n",
      "24  ---->  30\n",
      "{0: 5.49999999969043, 1: 5.499999999999993}\n",
      "30  ---->  31\n",
      "{0: 4.9999999999999964, 1: 4.9999999999999964}\n",
      "31  ---->  32\n"
     ]
    }
   ],
   "source": [
    "obj4.prev_state = 2\n",
    "for i in range(50):\n",
    "    action = obj4.select_action_q(obj4.prev_state,epsilon=0)\n",
    "    prev_state,next_state,reward,end_state = obj4.step(action)\n",
    "    print(obj4.q_value[prev_state])\n",
    "    print(prev_state,' ----> ',next_state)\n",
    "    \n",
    "    if end_state:\n",
    "        break"
   ]
  },
  {
   "cell_type": "code",
   "execution_count": null,
   "id": "simplified-crisis",
   "metadata": {},
   "outputs": [],
   "source": []
  }
 ],
 "metadata": {
  "kernelspec": {
   "display_name": "Python 3",
   "language": "python",
   "name": "python3"
  },
  "language_info": {
   "codemirror_mode": {
    "name": "ipython",
    "version": 3
   },
   "file_extension": ".py",
   "mimetype": "text/x-python",
   "name": "python",
   "nbconvert_exporter": "python",
   "pygments_lexer": "ipython3",
   "version": "3.8.5"
  },
  "latex_envs": {
   "LaTeX_envs_menu_present": true,
   "autoclose": false,
   "autocomplete": true,
   "bibliofile": "biblio.bib",
   "cite_by": "apalike",
   "current_citInitial": 1,
   "eqLabelWithNumbers": true,
   "eqNumInitial": 1,
   "hotkeys": {
    "equation": "Ctrl-E",
    "itemize": "Ctrl-I"
   },
   "labels_anchors": false,
   "latex_user_defs": false,
   "report_style_numbering": false,
   "user_envs_cfg": false
  },
  "toc": {
   "base_numbering": 1,
   "nav_menu": {},
   "number_sections": true,
   "sideBar": true,
   "skip_h1_title": false,
   "title_cell": "Table of Contents",
   "title_sidebar": "Contents",
   "toc_cell": false,
   "toc_position": {},
   "toc_section_display": true,
   "toc_window_display": true
  }
 },
 "nbformat": 4,
 "nbformat_minor": 5
}
