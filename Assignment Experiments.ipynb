{
 "cells": [
  {
   "cell_type": "code",
   "execution_count": 10,
   "id": "trained-jamaica",
   "metadata": {
    "ExecuteTime": {
     "end_time": "2021-05-05T11:37:48.097903Z",
     "start_time": "2021-05-05T11:37:48.094910Z"
    }
   },
   "outputs": [],
   "source": [
    "from Assignment_1 import FlappyKarel"
   ]
  },
  {
   "cell_type": "markdown",
   "id": "senior-laptop",
   "metadata": {},
   "source": [
    "## Step Reward Experiment"
   ]
  },
  {
   "cell_type": "markdown",
   "id": "current-chosen",
   "metadata": {},
   "source": [
    "### Step Reward = -4"
   ]
  },
  {
   "cell_type": "code",
   "execution_count": 12,
   "id": "front-livestock",
   "metadata": {
    "ExecuteTime": {
     "end_time": "2021-05-05T11:37:57.717565Z",
     "start_time": "2021-05-05T11:37:51.142482Z"
    }
   },
   "outputs": [
    {
     "name": "stderr",
     "output_type": "stream",
     "text": [
      "100%|█████████████████████████████████████████████████████████████████████████████| 5000/5000 [00:06<00:00, 830.83it/s]\n"
     ]
    },
    {
     "data": {
      "image/png": "[encoded data removed]",
      "text/plain": [
       "<Figure size 432x288 with 1 Axes>"
      ]
     },
     "metadata": {
      "needs_background": "light"
     },
     "output_type": "display_data"
    }
   ],
   "source": [
    "obj1 = FlappyKarel(grid_size=(7,5),negative_states=[1,7,8,12,13,14,15,16,17,21,22,28,29,35],goal_states=[32],neg_reward=-5,goal_reward=5,step_reward=-4,initial_state=3,discount_factor=0.9,epsilon=0.1)\n",
    "obj1.qlearning(5000,50)\n",
    "\n"
   ]
  },
  {
   "cell_type": "code",
   "execution_count": 13,
   "id": "deluxe-uzbekistan",
   "metadata": {
    "ExecuteTime": {
     "end_time": "2021-05-05T11:38:01.398734Z",
     "start_time": "2021-05-05T11:38:01.390745Z"
    }
   },
   "outputs": [
    {
     "data": {
      "text/plain": [
       "{1: {0: 0, 1: 0},\n",
       " 2: {0: -4.999999999890988, 1: -6.284249974515345},\n",
       " 3: {0: -8.499968596964324, 1: -8.499968218575432},\n",
       " 4: {0: -6.350674961704162, 1: -4.999999999969212},\n",
       " 5: {0: -7.077283049915418, 1: -4.999999999772083},\n",
       " 6: {0: -4.999990465812595, 1: -4.9999914192313355},\n",
       " 7: {0: 0, 1: 0},\n",
       " 8: {0: 0, 1: 0},\n",
       " 9: {0: -4.999999991805323, 1: -4.999999992624791},\n",
       " 10: {0: -4.324574141163504, 1: -3.550000000000705},\n",
       " 11: {0: -4.9999999999999964, 1: -6.8256230099954776},\n",
       " 12: {0: 0, 1: 0},\n",
       " 13: {0: 0, 1: 0},\n",
       " 14: {0: 0, 1: 0},\n",
       " 15: {0: 0, 1: 0},\n",
       " 16: {0: 0, 1: 0},\n",
       " 17: {0: 0, 1: 0},\n",
       " 18: {0: 0.4254990237378529, 1: 0.4999999999999971},\n",
       " 19: {0: -3.5500000000000145, 1: -6.981024700321411},\n",
       " 20: {0: 0.4999999999184128, 1: -3.2566077995000002},\n",
       " 21: {0: 0, 1: 0},\n",
       " 22: {0: 0, 1: 0},\n",
       " 23: {0: -3.062897555, 1: 0.4999999999980458},\n",
       " 24: {0: -2.5622577714959194, 1: 4.999999999999142},\n",
       " 25: {0: 0.4999999999999971, 1: -10.752505564781632},\n",
       " 26: {0: 4.9999999999999964, 1: -8.460722080282054},\n",
       " 27: {0: -9.57454496654771, 1: -4.999999999985274},\n",
       " 28: {0: 0, 1: 0},\n",
       " 29: {0: 0, 1: 0},\n",
       " 30: {0: 0.22446961372363983, 1: 0.4999999999909247},\n",
       " 31: {0: 4.9999999999999964, 1: 4.997462356069718},\n",
       " 32: {0: 0, 1: 0},\n",
       " 33: {0: -8.499998751422256, 1: -8.499998661931842},\n",
       " 34: {0: -4.999999999999803, 1: -4.999999999999803},\n",
       " 35: {0: 0, 1: 0}}"
      ]
     },
     "execution_count": 13,
     "metadata": {},
     "output_type": "execute_result"
    }
   ],
   "source": [
    "obj1.q_value"
   ]
  },
  {
   "cell_type": "code",
   "execution_count": 3,
   "id": "negative-accent",
   "metadata": {
    "ExecuteTime": {
     "end_time": "2021-05-03T05:19:49.337555Z",
     "start_time": "2021-05-03T05:19:49.332568Z"
    }
   },
   "outputs": [
    {
     "name": "stdout",
     "output_type": "stream",
     "text": [
      "3  ---->  9\n",
      "9  ---->  17\n"
     ]
    }
   ],
   "source": [
    "obj1.printoptimalpath(start_state = 3)"
   ]
  },
  {
   "cell_type": "markdown",
   "id": "coated-finland",
   "metadata": {},
   "source": [
    "### Step Reward = -1"
   ]
  },
  {
   "cell_type": "code",
   "execution_count": 14,
   "id": "growing-jacksonville",
   "metadata": {
    "ExecuteTime": {
     "end_time": "2021-05-05T11:39:19.284415Z",
     "start_time": "2021-05-05T11:39:07.374543Z"
    }
   },
   "outputs": [
    {
     "name": "stderr",
     "output_type": "stream",
     "text": [
      "100%|█████████████████████████████████████████████████████████████████████████████| 5000/5000 [00:11<00:00, 437.52it/s]\n"
     ]
    },
    {
     "data": {
      "image/png": "[encoded data removed]",
      "text/plain": [
       "<Figure size 432x288 with 1 Axes>"
      ]
     },
     "metadata": {
      "needs_background": "light"
     },
     "output_type": "display_data"
    }
   ],
   "source": [
    "obj2 = FlappyKarel(grid_size=(7,5),negative_states=[1,7,8,12,13,14,15,16,17,21,22,28,29,35],goal_states=[32],neg_reward=-5,goal_reward=5,step_reward=-1,initial_state=3,discount_factor=0.9,epsilon=0.3)\n",
    "obj2.qlearning(5000,50)"
   ]
  },
  {
   "cell_type": "code",
   "execution_count": 5,
   "id": "adaptive-detector",
   "metadata": {
    "ExecuteTime": {
     "end_time": "2021-05-03T05:20:01.103534Z",
     "start_time": "2021-05-03T05:20:01.095558Z"
    }
   },
   "outputs": [
    {
     "name": "stdout",
     "output_type": "stream",
     "text": [
      "3  ---->  11\n",
      "11  ---->  19\n",
      "19  ---->  25\n",
      "25  ---->  31\n",
      "31  ---->  32\n"
     ]
    }
   ],
   "source": [
    "obj2.printoptimalpath(start_state = 3)"
   ]
  },
  {
   "cell_type": "markdown",
   "id": "seventh-precipitation",
   "metadata": {},
   "source": [
    "### Step Reward = 0"
   ]
  },
  {
   "cell_type": "code",
   "execution_count": 6,
   "id": "royal-editor",
   "metadata": {
    "ExecuteTime": {
     "end_time": "2021-05-03T05:20:13.066632Z",
     "start_time": "2021-05-03T05:20:01.105534Z"
    }
   },
   "outputs": [
    {
     "name": "stderr",
     "output_type": "stream",
     "text": [
      "100%|█████████████████████████████████████████████████████████████████████████████| 5000/5000 [00:11<00:00, 434.97it/s]\n"
     ]
    },
    {
     "data": {
      "image/png": "[encoded data removed]",
      "text/plain": [
       "<Figure size 432x288 with 1 Axes>"
      ]
     },
     "metadata": {
      "needs_background": "light"
     },
     "output_type": "display_data"
    }
   ],
   "source": [
    "obj3 = FlappyKarel(grid_size=(7,5),negative_states=[1,7,8,12,13,14,15,16,17,21,22,28,29,35],goal_states=[32],neg_reward=-5,goal_reward=5,step_reward=0,initial_state=3,discount_factor=0.9,epsilon=0.1)\n",
    "obj3.qlearning(5000,50)"
   ]
  },
  {
   "cell_type": "code",
   "execution_count": 7,
   "id": "educational-terror",
   "metadata": {
    "ExecuteTime": {
     "end_time": "2021-05-04T04:57:50.909704Z",
     "start_time": "2021-05-04T04:57:39.065427Z"
    }
   },
   "outputs": [
    {
     "name": "stderr",
     "output_type": "stream",
     "text": [
      "100%|█████████████████████████████████████████████████████████████████████████████| 5000/5000 [00:11<00:00, 438.72it/s]\n"
     ]
    },
    {
     "data": {
      "image/png": "[encoded data removed]",
      "text/plain": [
       "<Figure size 432x288 with 1 Axes>"
      ]
     },
     "metadata": {
      "needs_background": "light"
     },
     "output_type": "display_data"
    }
   ],
   "source": [
    "obj3 = FlappyKarel(grid_size=(7,5),negative_states=[1,7,8,12,13,14,15,16,17,21,22,28,29,35],goal_states=[32],neg_reward=-5,goal_reward=5,step_reward=0,initial_state=3,discount_factor=0.5,epsilon=0.1)\n",
    "obj3.qlearning(5000,50)"
   ]
  },
  {
   "cell_type": "code",
   "execution_count": 8,
   "id": "accessible-prediction",
   "metadata": {
    "ExecuteTime": {
     "end_time": "2021-05-04T04:57:50.918680Z",
     "start_time": "2021-05-04T04:57:50.910701Z"
    }
   },
   "outputs": [
    {
     "name": "stdout",
     "output_type": "stream",
     "text": [
      "2  ---->  10\n",
      "10  ---->  18\n",
      "18  ---->  24\n",
      "24  ---->  32\n"
     ]
    }
   ],
   "source": [
    "obj3.printoptimalpath(start_state = 2)"
   ]
  },
  {
   "cell_type": "markdown",
   "id": "african-beast",
   "metadata": {},
   "source": [
    "### Step Reward = 1"
   ]
  },
  {
   "cell_type": "code",
   "execution_count": 8,
   "id": "painful-million",
   "metadata": {
    "ExecuteTime": {
     "end_time": "2021-05-03T05:20:25.553122Z",
     "start_time": "2021-05-03T05:20:13.078137Z"
    }
   },
   "outputs": [
    {
     "name": "stderr",
     "output_type": "stream",
     "text": [
      "100%|█████████████████████████████████████████████████████████████████████████████| 5000/5000 [00:12<00:00, 416.51it/s]\n"
     ]
    },
    {
     "data": {
      "image/png": "[encoded data removed]",
      "text/plain": [
       "<Figure size 432x288 with 1 Axes>"
      ]
     },
     "metadata": {
      "needs_background": "light"
     },
     "output_type": "display_data"
    }
   ],
   "source": [
    "obj4 = FlappyKarel(grid_size=(7,5),negative_states=[1,7,8,12,13,14,15,16,17,21,22,28,29,35],goal_states=[32],neg_reward=-5,goal_reward=5,step_reward=1,initial_state=3,discount_factor=0.9,epsilon=0.1)\n",
    "obj4.qlearning(5000,200)"
   ]
  },
  {
   "cell_type": "code",
   "execution_count": 9,
   "id": "chemical-focus",
   "metadata": {
    "ExecuteTime": {
     "end_time": "2021-05-03T05:20:25.564712Z",
     "start_time": "2021-05-03T05:20:25.555116Z"
    }
   },
   "outputs": [
    {
     "name": "stdout",
     "output_type": "stream",
     "text": [
      "2  ---->  10\n",
      "10  ---->  18\n",
      "18  ---->  24\n",
      "24  ---->  30\n",
      "30  ---->  31\n",
      "31  ---->  32\n"
     ]
    }
   ],
   "source": [
    "obj4.printoptimalpath(start_state = 2)"
   ]
  },
  {
   "cell_type": "code",
   "execution_count": null,
   "id": "bottom-conflict",
   "metadata": {},
   "outputs": [],
   "source": []
  },
  {
   "cell_type": "code",
   "execution_count": null,
   "id": "crucial-gross",
   "metadata": {},
   "outputs": [],
   "source": []
  }
 ],
 "metadata": {
  "kernelspec": {
   "display_name": "Python 3",
   "language": "python",
   "name": "python3"
  },
  "language_info": {
   "codemirror_mode": {
    "name": "ipython",
    "version": 3
   },
   "file_extension": ".py",
   "mimetype": "text/x-python",
   "name": "python",
   "nbconvert_exporter": "python",
   "pygments_lexer": "ipython3",
   "version": "3.8.5"
  },
  "latex_envs": {
   "LaTeX_envs_menu_present": true,
   "autoclose": false,
   "autocomplete": true,
   "bibliofile": "biblio.bib",
   "cite_by": "apalike",
   "current_citInitial": 1,
   "eqLabelWithNumbers": true,
   "eqNumInitial": 1,
   "hotkeys": {
    "equation": "Ctrl-E",
    "itemize": "Ctrl-I"
   },
   "labels_anchors": false,
   "latex_user_defs": false,
   "report_style_numbering": false,
   "user_envs_cfg": false
  },
  "toc": {
   "base_numbering": 1,
   "nav_menu": {},
   "number_sections": true,
   "sideBar": true,
   "skip_h1_title": false,
   "title_cell": "Table of Contents",
   "title_sidebar": "Contents",
   "toc_cell": false,
   "toc_position": {
    "height": "calc(100% - 180px)",
    "left": "10px",
    "top": "150px",
    "width": "384px"
   },
   "toc_section_display": true,
   "toc_window_display": true
  }
 },
 "nbformat": 4,
 "nbformat_minor": 5
}
