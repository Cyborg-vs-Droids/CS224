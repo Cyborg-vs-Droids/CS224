{
 "cells": [
  {
   "cell_type": "code",
   "execution_count": 2,
   "id": "local-massage",
   "metadata": {
    "ExecuteTime": {
     "end_time": "2021-05-05T18:41:28.429647Z",
     "start_time": "2021-05-05T18:41:27.321969Z"
    }
   },
   "outputs": [
    {
     "name": "stderr",
     "output_type": "stream",
     "text": [
      "C:\\Users\\70025838\\Anaconda3\\envs\\r_env\\lib\\site-packages\\numpy\\_distributor_init.py:30: UserWarning: loaded more than 1 DLL from .libs:\n",
      "C:\\Users\\70025838\\Anaconda3\\envs\\r_env\\lib\\site-packages\\numpy\\.libs\\libopenblas.PYQHXLVVQ7VESDPUVUADXEVJOBGHJPAY.gfortran-win_amd64.dll\n",
      "C:\\Users\\70025838\\Anaconda3\\envs\\r_env\\lib\\site-packages\\numpy\\.libs\\libopenblas.WCDJNK7YVMPZQ2ME2ZZHJJRJ3JIKNDB7.gfortran-win_amd64.dll\n",
      "  warnings.warn(\"loaded more than 1 DLL from .libs:\"\n"
     ]
    }
   ],
   "source": [
    "from flappykarel import FlappyKarel"
   ]
  },
  {
   "cell_type": "markdown",
   "id": "curious-proposal",
   "metadata": {},
   "source": [
    "## Step Reward Experiment"
   ]
  },
  {
   "cell_type": "markdown",
   "id": "scientific-corps",
   "metadata": {},
   "source": [
    "### Step Reward = -4"
   ]
  },
  {
   "cell_type": "code",
   "execution_count": 3,
   "id": "attempted-result",
   "metadata": {
    "ExecuteTime": {
     "end_time": "2021-05-05T18:41:37.210229Z",
     "start_time": "2021-05-05T18:41:30.920174Z"
    }
   },
   "outputs": [
    {
     "name": "stderr",
     "output_type": "stream",
     "text": [
      "100%|█████████████████████████████████████████████████████████████████████████████| 5000/5000 [00:05<00:00, 863.96it/s]\n"
     ]
    },
    {
     "data": {
      "image/png": "[encoded data removed]",
      "text/plain": [
       "<Figure size 432x288 with 1 Axes>"
      ]
     },
     "metadata": {
      "needs_background": "light"
     },
     "output_type": "display_data"
    }
   ],
   "source": [
    "obj1 = FlappyKarel(grid_size=(7,5),negative_states=[1,7,8,12,13,14,15,16,17,21,22,28,29,35],goal_states=[32],neg_reward=-5,goal_reward=5,step_reward=-4,initial_state=3,discount_factor=0.9,epsilon=0.1)\n",
    "obj1.qlearning(5000,50)\n",
    "\n"
   ]
  },
  {
   "cell_type": "code",
   "execution_count": 4,
   "id": "pregnant-auditor",
   "metadata": {
    "ExecuteTime": {
     "end_time": "2021-05-05T18:41:40.723502Z",
     "start_time": "2021-05-05T18:41:40.717193Z"
    }
   },
   "outputs": [
    {
     "name": "stdout",
     "output_type": "stream",
     "text": [
      "3  ---->  11\n",
      "11  ---->  17\n"
     ]
    }
   ],
   "source": [
    "obj1.printoptimalpath(start_state = 3)"
   ]
  },
  {
   "cell_type": "markdown",
   "id": "loose-sphere",
   "metadata": {},
   "source": [
    "### Step Reward = -1"
   ]
  },
  {
   "cell_type": "code",
   "execution_count": 5,
   "id": "varying-mayor",
   "metadata": {
    "ExecuteTime": {
     "end_time": "2021-05-05T18:41:54.982709Z",
     "start_time": "2021-05-05T18:41:43.437205Z"
    }
   },
   "outputs": [
    {
     "name": "stderr",
     "output_type": "stream",
     "text": [
      "100%|█████████████████████████████████████████████████████████████████████████████| 5000/5000 [00:11<00:00, 450.67it/s]\n"
     ]
    },
    {
     "data": {
      "image/png": "[encoded data removed]",
      "text/plain": [
       "<Figure size 432x288 with 1 Axes>"
      ]
     },
     "metadata": {
      "needs_background": "light"
     },
     "output_type": "display_data"
    }
   ],
   "source": [
    "obj2 = FlappyKarel(grid_size=(7,5),negative_states=[1,7,8,12,13,14,15,16,17,21,22,28,29,35],goal_states=[32],neg_reward=-5,goal_reward=5,step_reward=-1,initial_state=3,discount_factor=0.9,epsilon=0.3)\n",
    "obj2.qlearning(5000,50)"
   ]
  },
  {
   "cell_type": "code",
   "execution_count": 6,
   "id": "genetic-luther",
   "metadata": {
    "ExecuteTime": {
     "end_time": "2021-05-05T18:41:54.989669Z",
     "start_time": "2021-05-05T18:41:54.983651Z"
    }
   },
   "outputs": [
    {
     "name": "stdout",
     "output_type": "stream",
     "text": [
      "3  ---->  11\n",
      "11  ---->  19\n",
      "19  ---->  25\n",
      "25  ---->  31\n",
      "31  ---->  32\n"
     ]
    }
   ],
   "source": [
    "obj2.printoptimalpath(start_state = 3)"
   ]
  },
  {
   "cell_type": "markdown",
   "id": "bright-compensation",
   "metadata": {},
   "source": [
    "### Step Reward = 0"
   ]
  },
  {
   "cell_type": "code",
   "execution_count": 8,
   "id": "intimate-tolerance",
   "metadata": {
    "ExecuteTime": {
     "end_time": "2021-05-05T18:42:24.810949Z",
     "start_time": "2021-05-05T18:42:12.628754Z"
    }
   },
   "outputs": [
    {
     "name": "stderr",
     "output_type": "stream",
     "text": [
      "100%|█████████████████████████████████████████████████████████████████████████████| 5000/5000 [00:11<00:00, 428.98it/s]\n"
     ]
    },
    {
     "data": {
      "image/png": "[encoded data removed]",
      "text/plain": [
       "<Figure size 432x288 with 1 Axes>"
      ]
     },
     "metadata": {
      "needs_background": "light"
     },
     "output_type": "display_data"
    }
   ],
   "source": [
    "obj3 = FlappyKarel(grid_size=(7,5),negative_states=[1,7,8,12,13,14,15,16,17,21,22,28,29,35],goal_states=[32],neg_reward=-5,goal_reward=5,step_reward=0,initial_state=3,discount_factor=0.9,epsilon=0.1)\n",
    "obj3.qlearning(5000,50)"
   ]
  },
  {
   "cell_type": "code",
   "execution_count": 9,
   "id": "guided-picking",
   "metadata": {
    "ExecuteTime": {
     "end_time": "2021-05-05T18:42:24.818927Z",
     "start_time": "2021-05-05T18:42:24.811945Z"
    }
   },
   "outputs": [
    {
     "name": "stdout",
     "output_type": "stream",
     "text": [
      "2  ---->  10\n",
      "10  ---->  18\n",
      "18  ---->  26\n",
      "26  ---->  32\n"
     ]
    }
   ],
   "source": [
    "obj3.printoptimalpath(start_state = 2)"
   ]
  },
  {
   "cell_type": "markdown",
   "id": "delayed-oxford",
   "metadata": {},
   "source": [
    "### Step Reward = 1"
   ]
  },
  {
   "cell_type": "code",
   "execution_count": 10,
   "id": "recognized-police",
   "metadata": {
    "ExecuteTime": {
     "end_time": "2021-05-05T18:42:37.761049Z",
     "start_time": "2021-05-05T18:42:24.820923Z"
    }
   },
   "outputs": [
    {
     "name": "stderr",
     "output_type": "stream",
     "text": [
      "100%|█████████████████████████████████████████████████████████████████████████████| 5000/5000 [00:12<00:00, 402.24it/s]\n"
     ]
    },
    {
     "data": {
      "image/png": "[encoded data removed]",
      "text/plain": [
       "<Figure size 432x288 with 1 Axes>"
      ]
     },
     "metadata": {
      "needs_background": "light"
     },
     "output_type": "display_data"
    }
   ],
   "source": [
    "obj4 = FlappyKarel(grid_size=(7,5),negative_states=[1,7,8,12,13,14,15,16,17,21,22,28,29,35],goal_states=[32],neg_reward=-5,goal_reward=5,step_reward=1,initial_state=3,discount_factor=0.9,epsilon=0.1)\n",
    "obj4.qlearning(5000,200)"
   ]
  },
  {
   "cell_type": "code",
   "execution_count": 11,
   "id": "touched-married",
   "metadata": {
    "ExecuteTime": {
     "end_time": "2021-05-05T18:42:37.768031Z",
     "start_time": "2021-05-05T18:42:37.762047Z"
    }
   },
   "outputs": [
    {
     "name": "stdout",
     "output_type": "stream",
     "text": [
      "2  ---->  10\n",
      "10  ---->  18\n",
      "18  ---->  26\n",
      "26  ---->  32\n"
     ]
    }
   ],
   "source": [
    "obj4.printoptimalpath(start_state = 2)"
   ]
  }
 ],
 "metadata": {
  "kernelspec": {
   "display_name": "Python 3",
   "language": "python",
   "name": "python3"
  },
  "language_info": {
   "codemirror_mode": {
    "name": "ipython",
    "version": 3
   },
   "file_extension": ".py",
   "mimetype": "text/x-python",
   "name": "python",
   "nbconvert_exporter": "python",
   "pygments_lexer": "ipython3",
   "version": "3.8.5"
  },
  "latex_envs": {
   "LaTeX_envs_menu_present": true,
   "autoclose": false,
   "autocomplete": true,
   "bibliofile": "biblio.bib",
   "cite_by": "apalike",
   "current_citInitial": 1,
   "eqLabelWithNumbers": true,
   "eqNumInitial": 1,
   "hotkeys": {
    "equation": "Ctrl-E",
    "itemize": "Ctrl-I"
   },
   "labels_anchors": false,
   "latex_user_defs": false,
   "report_style_numbering": false,
   "user_envs_cfg": false
  },
  "toc": {
   "base_numbering": 1,
   "nav_menu": {},
   "number_sections": true,
   "sideBar": true,
   "skip_h1_title": false,
   "title_cell": "Table of Contents",
   "title_sidebar": "Contents",
   "toc_cell": false,
   "toc_position": {
    "height": "calc(100% - 180px)",
    "left": "10px",
    "top": "150px",
    "width": "384px"
   },
   "toc_section_display": true,
   "toc_window_display": true
  }
 },
 "nbformat": 4,
 "nbformat_minor": 5
}
